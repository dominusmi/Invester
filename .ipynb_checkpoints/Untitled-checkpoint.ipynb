{
 "cells": [
  {
   "cell_type": "code",
   "execution_count": 1,
   "metadata": {},
   "outputs": [
    {
     "name": "stderr",
     "output_type": "stream",
     "text": [
      "/home/edoardo/.local/lib/python3.6/site-packages/requests/__init__.py:91: RequestsDependencyWarning: urllib3 (1.23) or chardet (2.3.0) doesn't match a supported version!\n",
      "  RequestsDependencyWarning)\n"
     ]
    }
   ],
   "source": [
    "import requests\n",
    "import datetime"
   ]
  },
  {
   "cell_type": "code",
   "execution_count": 4,
   "metadata": {},
   "outputs": [],
   "source": [
    "class StockHelper:\n",
    "    def WeightedAverage(x,y):\n",
    "        \n",
    "\n",
    "class Stock:\n",
    "    def __init__(self,symbol):\n",
    "        self.symbol = symbol\n",
    "        self.dates = []\n",
    "        self.open = []\n",
    "        self.high = []\n",
    "        self.close = []\n",
    "        self.close_adjusted = []\n",
    "        self.low = []\n",
    "        self.dividend = []\n",
    "        self.split_coef = []\n",
    "        self.volume = []\n",
    "    \n",
    "    def add_from_date(self, _date, _dict):\n",
    "        _date = _date.split('-')\n",
    "        year, month, day = int(_date[0]), int(_date[1]), int(_date[2])        \n",
    "\n",
    "        self.dates.append(datetime.date(year, month, day))\n",
    "        self.open.append(_dict['1. open'])\n",
    "        self.high.append(_dict['2. high'])\n",
    "        self.low.append(_dict['3. low'])\n",
    "        self.close.append(_dict['4. close'])\n",
    "        self.close_adjusted.append(_dict['5. adjusted close'])\n",
    "        self.volume.append(_dict['6. volume'])\n",
    "        self.dividend.append(_dict['7. dividend amount'])\n",
    "        self.split_coef.append(_dict['8. split coefficient'])\n",
    "        \n",
    "    def add_from_history(self, history):\n",
    "        for key, value in history.items():\n",
    "            self.add_from_date(key, value)       \n",
    "    \n",
    "    \n",
    "        \n",
    "class IEXTradingAPI:\n",
    "    base = 'https://ws-api.iextrading.com/1.0'\n",
    "    \n",
    "    def request(endpoint):\n",
    "        url = base + endpoint\n",
    "        r = requests.get(url)\n",
    "        return r.json() \n",
    "    \n",
    "    def getSymbols():\n",
    "        endpoint = '/ref-data/symbols'\n",
    "        return request(endpoint)\n",
    "\n",
    "\n",
    "    \n",
    "    \n",
    "class AlphadvantageAPI:\n",
    "    key = '3J1NP4X808DF2YY8'\n",
    "    base = 'https://www.alphavantage.co/query?'\n",
    "    \n",
    "    def request(self, endpoint):\n",
    "        url = self.base + endpoint + '&apikey=' + self.key \n",
    "        print(\"Query: {}\".format(url))\n",
    "        r = requests.get(url)\n",
    "        return r.json() \n",
    "    \n",
    "    def getStockHistory(self, stock, function, outputsize = 'compact'):\n",
    "        args = dict()\n",
    "        args['function'] = function\n",
    "        args['symbol'] = stock\n",
    "        args['outputsize'] = outputsize\n",
    "        \n",
    "        endpoint = self.dictToEndpoint(args)\n",
    "        return self.request(endpoint)\n",
    "    \n",
    "    def getStockDailyHistory(self, stock, outputsize = 'compact'):\n",
    "        response = self.getStockHistory(stock, 'TIME_SERIES_DAILY_ADJUSTED', outputsize = outputsize)\n",
    "        response = response['Time Series (Daily)']\n",
    "        stock = Stock('FB')\n",
    "        stock.add_from_history(response)\n",
    "        return stock\n",
    "        \n",
    "        \n",
    "    def getStockWeeklyHistory(self, stock, outputsize = 'compact'):\n",
    "        return self.getStockHistory(stock, 'TIME_SERIES_WEEKLY_ADJUSTED', outputsize = outputsize)\n",
    "\n",
    "    \n",
    "    def dictToEndpoint(self, _dict):\n",
    "        endpoint = str()\n",
    "        for key,value in _dict.items():\n",
    "            endpoint += '{}={}&'.format(key,value)\n",
    "            \n",
    "        return endpoint.rstrip('&')"
   ]
  },
  {
   "cell_type": "code",
   "execution_count": 5,
   "metadata": {},
   "outputs": [],
   "source": [
    "stock = Stock('FB')"
   ]
  },
  {
   "cell_type": "code",
   "execution_count": 18,
   "metadata": {},
   "outputs": [
    {
     "name": "stdout",
     "output_type": "stream",
     "text": [
      "<class 'int'>\n"
     ]
    },
    {
     "ename": "KeyError",
     "evalue": "'5. adjusted close'",
     "output_type": "error",
     "traceback": [
      "\u001b[0;31m---------------------------------------------------------------------------\u001b[0m",
      "\u001b[0;31mKeyError\u001b[0m                                  Traceback (most recent call last)",
      "\u001b[0;32m<ipython-input-18-154aedb51bb9>\u001b[0m in \u001b[0;36m<module>\u001b[0;34m()\u001b[0m\n\u001b[1;32m     12\u001b[0m \u001b[0mprint\u001b[0m\u001b[0;34m(\u001b[0m\u001b[0mtype\u001b[0m\u001b[0;34m(\u001b[0m\u001b[0mday\u001b[0m\u001b[0;34m)\u001b[0m\u001b[0;34m)\u001b[0m\u001b[0;34m\u001b[0m\u001b[0m\n\u001b[1;32m     13\u001b[0m \u001b[0;34m\u001b[0m\u001b[0m\n\u001b[0;32m---> 14\u001b[0;31m \u001b[0mstock\u001b[0m\u001b[0;34m.\u001b[0m\u001b[0madd_from_date\u001b[0m\u001b[0;34m(\u001b[0m\u001b[0mdate\u001b[0m\u001b[0;34m,\u001b[0m \u001b[0m_dict\u001b[0m\u001b[0;34m)\u001b[0m\u001b[0;34m\u001b[0m\u001b[0m\n\u001b[0m",
      "\u001b[0;32m<ipython-input-16-069377aaaaa4>\u001b[0m in \u001b[0;36madd_from_date\u001b[0;34m(self, _date, _dict)\u001b[0m\n\u001b[1;32m     22\u001b[0m         \u001b[0mself\u001b[0m\u001b[0;34m.\u001b[0m\u001b[0mlow\u001b[0m\u001b[0;34m.\u001b[0m\u001b[0mappend\u001b[0m\u001b[0;34m(\u001b[0m\u001b[0m_dict\u001b[0m\u001b[0;34m[\u001b[0m\u001b[0;34m'3. low'\u001b[0m\u001b[0;34m]\u001b[0m\u001b[0;34m)\u001b[0m\u001b[0;34m\u001b[0m\u001b[0m\n\u001b[1;32m     23\u001b[0m         \u001b[0mself\u001b[0m\u001b[0;34m.\u001b[0m\u001b[0mclose\u001b[0m\u001b[0;34m.\u001b[0m\u001b[0mappend\u001b[0m\u001b[0;34m(\u001b[0m\u001b[0m_dict\u001b[0m\u001b[0;34m[\u001b[0m\u001b[0;34m'4. close'\u001b[0m\u001b[0;34m]\u001b[0m\u001b[0;34m)\u001b[0m\u001b[0;34m\u001b[0m\u001b[0m\n\u001b[0;32m---> 24\u001b[0;31m         \u001b[0mself\u001b[0m\u001b[0;34m.\u001b[0m\u001b[0mclose_adjusted\u001b[0m\u001b[0;34m.\u001b[0m\u001b[0mappend\u001b[0m\u001b[0;34m(\u001b[0m\u001b[0m_dict\u001b[0m\u001b[0;34m[\u001b[0m\u001b[0;34m'5. adjusted close'\u001b[0m\u001b[0;34m]\u001b[0m\u001b[0;34m)\u001b[0m\u001b[0;34m\u001b[0m\u001b[0m\n\u001b[0m\u001b[1;32m     25\u001b[0m         \u001b[0mself\u001b[0m\u001b[0;34m.\u001b[0m\u001b[0mvolume\u001b[0m\u001b[0;34m.\u001b[0m\u001b[0mappend\u001b[0m\u001b[0;34m(\u001b[0m\u001b[0m_dict\u001b[0m\u001b[0;34m[\u001b[0m\u001b[0;34m'6. volume'\u001b[0m\u001b[0;34m]\u001b[0m\u001b[0;34m)\u001b[0m\u001b[0;34m\u001b[0m\u001b[0m\n\u001b[1;32m     26\u001b[0m         \u001b[0mself\u001b[0m\u001b[0;34m.\u001b[0m\u001b[0mdividend\u001b[0m\u001b[0;34m.\u001b[0m\u001b[0mappend\u001b[0m\u001b[0;34m(\u001b[0m\u001b[0m_dict\u001b[0m\u001b[0;34m[\u001b[0m\u001b[0;34m'7. dividend amount'\u001b[0m\u001b[0;34m]\u001b[0m\u001b[0;34m)\u001b[0m\u001b[0;34m\u001b[0m\u001b[0m\n",
      "\u001b[0;31mKeyError\u001b[0m: '5. adjusted close'"
     ]
    }
   ],
   "source": [
    "date = '2019-06-21'\n",
    "_dict = {\n",
    "            \"1. open\": \"136.5800\",\n",
    "            \"2. high\": \"137.7300\",\n",
    "            \"3. low\": \"136.4600\",\n",
    "            \"4. close\": \"136.9700\",\n",
    "            \"5. volume\": \"36727892\"\n",
    "        }\n",
    "\n",
    "date_split = date.split(\"-\")\n",
    "year, month, day = int(date_split[0]), int(date_split[1]), int(date_split[2])\n",
    "print(type(day))\n",
    "\n",
    "stock.add_from_date(date, _dict)"
   ]
  },
  {
   "cell_type": "code",
   "execution_count": 6,
   "metadata": {},
   "outputs": [
    {
     "name": "stdout",
     "output_type": "stream",
     "text": [
      "Query: https://www.alphavantage.co/query?function=TIME_SERIES_DAILY_ADJUSTED&symbol=FB&outputsize=10&apikey=3J1NP4X808DF2YY8\n"
     ]
    }
   ],
   "source": [
    "aa = AlphadvantageAPI()\n",
    "stock = aa.getStockDailyHistory('FB', outputsize=10)"
   ]
  },
  {
   "cell_type": "code",
   "execution_count": 7,
   "metadata": {},
   "outputs": [
    {
     "data": {
      "text/plain": [
       "<__main__.Stock at 0x7f1ce4b27f28>"
      ]
     },
     "execution_count": 7,
     "metadata": {},
     "output_type": "execute_result"
    }
   ],
   "source": [
    "stock.open"
   ]
  }
 ],
 "metadata": {
  "@webio": {
   "lastCommId": "ADD131F6ABC74EA78F9410021A031ABC",
   "lastKernelId": "e91164b2-5b34-4fc6-9c0f-211d8001f449"
  },
  "kernelspec": {
   "display_name": "Python 3",
   "language": "python",
   "name": "python3"
  },
  "language_info": {
   "codemirror_mode": {
    "name": "ipython",
    "version": 3
   },
   "file_extension": ".py",
   "mimetype": "text/x-python",
   "name": "python",
   "nbconvert_exporter": "python",
   "pygments_lexer": "ipython3",
   "version": "3.6.5"
  }
 },
 "nbformat": 4,
 "nbformat_minor": 2
}
